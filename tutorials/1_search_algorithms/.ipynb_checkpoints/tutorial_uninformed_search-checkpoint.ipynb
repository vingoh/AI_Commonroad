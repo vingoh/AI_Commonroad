{
 "cells": [
  {
   "cell_type": "markdown",
   "metadata": {},
   "source": [
    "# Tutorial: Uninformed Search Algorithms\n",
    "\n",
    "This tutorial shows how we can combine motion primitives of vehicles, i.e., short trajectory segments, with uninformed search algorithms to find feasible trajectories that connect the **initial state** and the **goal region** of a given planning problem."
   ]
  },
  {
   "cell_type": "markdown",
   "metadata": {},
   "source": [
    "## 0. Preparation\n",
    "Before you proceed with this tutorial, make sure that\n",
    "\n",
    "* you have gone through the tutorial for **CommonRoad Input-Output**.\n",
    "* you have installed all necessary modules for **CommonRoad Search** according to the installation manual.\n",
    "\n",
    "Let's start with importing relevant modules and classes for setting up the automaton and the CommonRoad (CR) scenario."
   ]
  },
  {
   "cell_type": "code",
   "execution_count": 1,
   "metadata": {},
   "outputs": [],
   "source": [
    "%matplotlib inline\n",
    "%load_ext autoreload\n",
    "%autoreload 2\n",
    "\n",
    "import os\n",
    "import sys\n",
    "path_notebook = os.getcwd()\n",
    "\n",
    "# add the SMP folder to python path\n",
    "sys.path.append(os.path.join(path_notebook, \"../../\"))\n",
    "\n",
    "# add the 1_search_algorithms folder to python path\n",
    "sys.path.append(os.path.join(path_notebook, \"../\"))\n",
    "\n",
    "import matplotlib.pyplot as plt\n",
    "\n",
    "from commonroad.common.file_reader import CommonRoadFileReader\n",
    "from commonroad.visualization.draw_dispatch_cr import draw_object\n",
    "\n",
    "from SMP.motion_planner.motion_planner import MotionPlanner\n",
    "from SMP.maneuver_automaton.maneuver_automaton import ManeuverAutomaton\n",
    "from SMP.motion_planner.utility import plot_primitives, display_steps"
   ]
  },
  {
   "cell_type": "markdown",
   "metadata": {},
   "source": [
    "## 1. Loading CR Scenario and Planning Problem\n",
    "In the next step, we load a CommonRoad scenario and its planning problem, which should be solved with the search algorithms. The meaning of the symbols in a scenario are explained as follows:\n",
    "* **Dot**: initial state projected onto the position domain\n",
    "* **Red rectangle**: static obstacle\n",
    "* **Yellow rectangle**: goal region projected onto the position domain"
   ]
  },
  {
   "cell_type": "code",
   "execution_count": 2,
   "metadata": {},
   "outputs": [
    {
     "data": {
      "image/png": "[encoded data removed]",
      "text/plain": [
       "<Figure size 1080x360 with 1 Axes>"
      ]
     },
     "metadata": {
      "needs_background": "light"
     },
     "output_type": "display_data"
    }
   ],
   "source": [
    "# load scenario\n",
    "path_scenario = os.path.join(path_notebook, \"../../scenarios/tutorial/\")\n",
    "id_scenario = 'ZAM_Tutorial_Urban-3_2'\n",
    "\n",
    "# read in scenario and planning problem set\n",
    "scenario, planning_problem_set = CommonRoadFileReader(path_scenario + id_scenario + '.xml').open()\n",
    "# retrieve the first planning problem in the problem set\n",
    "planning_problem = list(planning_problem_set.planning_problem_dict.values())[0]\n",
    "    \n",
    "# plot the scenario and the planning problem set\n",
    "plt.figure(figsize=(15, 5))\n",
    "draw_object(scenario)\n",
    "draw_object(planning_problem_set)\n",
    "plt.gca().set_aspect('equal')\n",
    "plt.margins(0, 0)\n",
    "plt.show()"
   ]
  },
  {
   "cell_type": "markdown",
   "metadata": {},
   "source": [
    "## 2. Generating a Maneuver Automaton\n",
    "\n",
    "In the following, we load the pre-generated motion primitives from an XML-File, and generate a **Maneuver Automaton** out of them.\n",
    "The maneuver automaton used for this tutorial consists of 7 motion primitives; the connectivity within the motion primitives are also computed and stored. Some additional explanations on the motion primitives:\n",
    "* The motion primitives are generated for the *Kinematic Single Track Model* (see [Vehicle Model Documentation](https://gitlab.lrz.de/tum-cps/commonroad-vehicle-models/-/blob/master/vehicleModels_commonRoad.pdf)) with parameters taken from vehicle model *BMW320i* (id_type_vehicle=2). \n",
    "* The motion primitives have a constant driving velocity of 9 m/s, varying steering angles with constant steering angle velocity, and a duration of 0.5 seconds. We assume constant input during this period.\n",
    "* The motion primitives are generated for all combinations of the steering angles of values 0 rad and 0.2 rad at the initial state and the final state, thereby producing 2 (initial states) x 2 (final states) = 4 primitives. Except for the primive moving straight (with 0 rad steering angle at the initial and the final states), the remaining 3 left-turning primitives are mirrored with regard to the x-axis, resulting in a total number of 7 motion primitives.\n",
    "* Two motion primitives are considered connectable if the velocity and the steering angle of the final state of the preceding primitive are equal to those of the initial state of the following primitive."
   ]
  },
  {
   "cell_type": "code",
   "execution_count": null,
   "metadata": {},
   "outputs": [],
   "source": [
    "# load the xml with stores the motion primitives\n",
    "name_file_motion_primitives = 'V_9.0_9.0_Vstep_0_SA_-0.2_0.2_SAstep_0.2_T_0.5_Model_BMW_320i.xml'\n",
    "\n",
    "# generate automaton\n",
    "automaton = ManeuverAutomaton.generate_automaton(name_file_motion_primitives)\n",
    "\n",
    "# plot motion primitives\n",
    "plot_primitives(automaton.list_primitives)"
   ]
  },
  {
   "cell_type": "markdown",
   "metadata": {},
   "source": [
    "## 3. Search algorithms\n",
    "Next, we demonstrate the search results for the following algorithms:\n",
    "1. Breadth-First Search (BFS)\n",
    "2. Depth-First Search (DFS)\n",
    "3. Depth-Limited Search (DLS)\n",
    "4. Uniform-Cost Search (UCS)\n",
    "\n",
    "For each of the algorithms, we create a corresponding motion planner implemented in the **MotionPlanner** class, with the scenario, the planning problem, and the generated automaton as the input. The source codes are located at **SMP/motion_planner/search_algorithms/**\n",
    "\n",
    "After executing the code block for every algorithm, you will see a **\"visualize\"** button directly beneath the **\"iteration\"** slider. Click the **\"visualize\"** button and let the search algorithm run through; once it's completed, you can use the slider to examine all intermediate search steps. Meaning of colors and lines are explained as follows:\n",
    "* **Yellow solid:** frontier \n",
    "* **Yellow dashed:** collision\n",
    "* **Red solid:** currently exploring\n",
    "* **Gray solid:** explored\n",
    "* **Green solid:** final solution"
   ]
  },
  {
   "cell_type": "markdown",
   "metadata": {},
   "source": [
    "### 3.1 Breadth-First Search (BFS)\n",
    "The BFS algorithm uses a FIFO (First-In First-Out) queue for pushing the nodes."
   ]
  },
  {
   "cell_type": "code",
   "execution_count": null,
   "metadata": {},
   "outputs": [],
   "source": [
    "# construct motion planner\n",
    "planner_BFS = MotionPlanner.BreadthFirstSearch(scenario=scenario, \n",
    "                                               planning_problem=planning_problem,\n",
    "                                               automaton=automaton)\n",
    "# prepare input for visualization\n",
    "scenario_data = (scenario, planner_BFS.state_initial, planner_BFS.shape_ego, planning_problem)\n",
    "\n",
    "# display search steps\n",
    "display_steps(scenario_data=scenario_data, algorithm=planner_BFS.execute_search, \n",
    "              config=planner_BFS.config_plot)"
   ]
  },
  {
   "cell_type": "markdown",
   "metadata": {},
   "source": [
    "### 3.2 Depth-First Search (DFS)\n",
    "The DFS algorithm uses a LIFO (Last-In First-Out) queue for pushing the nodes."
   ]
  },
  {
   "cell_type": "code",
   "execution_count": null,
   "metadata": {},
   "outputs": [],
   "source": [
    "# construct motion planner\n",
    "planner_DFS = MotionPlanner.DepthFirstSearch(scenario=scenario, \n",
    "                                             planning_problem=planning_problem,\n",
    "                                             automaton=automaton)\n",
    "# prepare input for visualization\n",
    "scenario_data = (scenario, planner_DFS.state_initial, planner_DFS.shape_ego, planning_problem)\n",
    "\n",
    "# display search steps\n",
    "display_steps(scenario_data=scenario_data, algorithm=planner_DFS.execute_search, \n",
    "              config=planner_DFS.config_plot)"
   ]
  },
  {
   "cell_type": "markdown",
   "metadata": {},
   "source": [
    "In this scenario, we were lucky enough to find a solution using DFS. However, the DFS is not complete, i.e., DFS is not guaranteed to find a solution if one exist. To justify our claim, we slightly manipulate the scenario, such that the goal region is shifted for 4 m in the y-axis, and re-run the search."
   ]
  },
  {
   "cell_type": "code",
   "execution_count": null,
   "metadata": {},
   "outputs": [],
   "source": [
    "import numpy as np\n",
    "\n",
    "# read in scenario and planning problem set\n",
    "scenario, planning_problem_set = CommonRoadFileReader(path_scenario + id_scenario + '.xml').open()\n",
    "# retrieve the first planning problem in the problem set\n",
    "planning_problem = list(planning_problem_set.planning_problem_dict.values())[0]\n",
    "\n",
    "for state in planning_problem.goal.state_list:\n",
    "    state.position = state.position.translate_rotate(np.array([0, 4]), 0)\n",
    "    \n",
    "# Plot the scenario and the planning problem set\n",
    "plt.figure(figsize=(15, 5))\n",
    "draw_object(scenario)\n",
    "draw_object(planning_problem_set)\n",
    "plt.gca().set_aspect('equal')\n",
    "plt.margins(0, 0)\n",
    "plt.show()"
   ]
  },
  {
   "cell_type": "code",
   "execution_count": null,
   "metadata": {},
   "outputs": [],
   "source": [
    "# construct motion planner\n",
    "planner_DFS = MotionPlanner.DepthFirstSearch(scenario=scenario, \n",
    "                                             planning_problem=planning_problem,\n",
    "                                             automaton=automaton)\n",
    "# prepare input for visualization\n",
    "scenario_data = (scenario, planner_DFS.state_initial, planner_DFS.shape_ego, planning_problem)\n",
    "\n",
    "# display search steps\n",
    "display_steps(scenario_data=scenario_data, algorithm=planner_DFS.execute_search, \n",
    "              config=planner_DFS.config_plot)"
   ]
  },
  {
   "cell_type": "markdown",
   "metadata": {},
   "source": [
    "As you can see, in this case DFS was not able to find a solution, since DFS would go infinitely deep when appending motion primitives (leading to infinite state space). **Question**: is this also the case with BFS? You can test it out.\n",
    "\n",
    "To overcome this problem, we introduce a depth limit, resulting in Depth-Limited Search (DLS)."
   ]
  },
  {
   "cell_type": "markdown",
   "metadata": {},
   "source": [
    "### 3.3 Depth-Limited Search (DLS)\n",
    "\n",
    "Now let's run the algorithm and see what changes with the introduced depth limit. Here we set the limit to 7, as we know from the result of BFS that there exists a solution consisting of 7 motion primtives."
   ]
  },
  {
   "cell_type": "code",
   "execution_count": null,
   "metadata": {},
   "outputs": [],
   "source": [
    "limit_depth = 7\n",
    "\n",
    "# construct motion planner\n",
    "planner_DLS = MotionPlanner.DepthLimitedSearch(scenario=scenario, \n",
    "                                               planning_problem=planning_problem,\n",
    "                                               automaton=automaton)\n",
    "# prepare input for visualization\n",
    "scenario_data = (scenario, planner_DLS.state_initial, planner_DLS.shape_ego, planning_problem)\n",
    "\n",
    "# display search steps\n",
    "display_steps(scenario_data=scenario_data, algorithm=planner_DLS.execute_search, \n",
    "              config=planner_DLS.config_plot, limit_depth=limit_depth)"
   ]
  },
  {
   "cell_type": "markdown",
   "metadata": {},
   "source": [
    "As you can see, DLS now finds a solution. **Question**: what happends if you have a lower or higher depth limit? Try it out."
   ]
  },
  {
   "cell_type": "markdown",
   "metadata": {},
   "source": [
    "### 3.4 Uniform-Cost Search (UCS)\n",
    "\n",
    "The algorithms we have considered so far do not consider any cost during the search process. In the following, we look at the Uniform-Cost Search. UCS is optimal for any step costs, as it expands the node with the lowest path cost g(n). In this example, the cost is set to the time to reach the goal. Thus, our cost g(n) is the time it took to reach our current final state. \n",
    "\n",
    "UCS is based on the Best-First Search algorithm, which we will also use for Greedy-Best-First Search and A\\* Search in the next tutorial. These algorithms only differ in their evaluation function: in UCS, the evaluation function is f(n) = g(n)."
   ]
  },
  {
   "cell_type": "code",
   "execution_count": null,
   "metadata": {},
   "outputs": [],
   "source": [
    "# read in scenario and planning problem set\n",
    "scenario, planning_problem_set = CommonRoadFileReader(path_scenario + id_scenario + '.xml').open()\n",
    "# retrieve the first planning problem in the problem set\n",
    "planning_problem = list(planning_problem_set.planning_problem_dict.values())[0]\n",
    "\n",
    "# construct motion planner\n",
    "planner_UCS = MotionPlanner.UniformCostSearch(scenario=scenario, \n",
    "                                              planning_problem=planning_problem,\n",
    "                                              automaton=automaton)\n",
    "# prepare input for visualization\n",
    "scenario_data = (scenario, planner_UCS.state_initial, planner_UCS.shape_ego, planning_problem)\n",
    "\n",
    "# display search steps\n",
    "display_steps(scenario_data=scenario_data, algorithm=planner_UCS.execute_search, \n",
    "              config=planner_UCS.config_plot)"
   ]
  },
  {
   "cell_type": "markdown",
   "metadata": {
    "pycharm": {
     "name": "#%% md\n"
    }
   },
   "source": [
    "## Congratulations!\n",
    "\n",
    "You have finished the tutorial on uninformed search algorithms! Next, you can proceed with the tutorial on informed search algorithms."
   ]
  }
 ],
 "metadata": {
  "kernelspec": {
   "display_name": "Python 3",
   "language": "python",
   "name": "python3"
  },
  "language_info": {
   "codemirror_mode": {
    "name": "ipython",
    "version": 3
   },
   "file_extension": ".py",
   "mimetype": "text/x-python",
   "name": "python",
   "nbconvert_exporter": "python",
   "pygments_lexer": "ipython3",
   "version": "3.7.9"
  }
 },
 "nbformat": 4,
 "nbformat_minor": 2
}
