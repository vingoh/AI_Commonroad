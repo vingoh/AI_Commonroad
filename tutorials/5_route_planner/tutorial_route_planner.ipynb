{
 "cells": [
  {
   "cell_type": "markdown",
   "metadata": {},
   "source": [
    "# Tutorial: Route Planner\n",
    "\n",
    "This tutorial demonstrates how the Route Planner package can be used to plan high-level routes for planning problems given in CommonRoad scenarios."
   ]
  },
  {
   "cell_type": "markdown",
   "metadata": {},
   "source": [
    "## 0. Preparation\n",
    "* you have gone through the tutorial for **CommonRoad Input-Output**.\n",
    "* you have installed all necessary modules for **CommonRoad Search** according to the installation manual.\n",
    "\n",
    "Let's start with importing relevant modules and classes for setting up the automaton and the CommonRoad (CR) scenario."
   ]
  },
  {
   "cell_type": "code",
   "execution_count": null,
   "metadata": {},
   "outputs": [],
   "source": [
    "%matplotlib inline\n",
    "%load_ext autoreload\n",
    "%autoreload 2\n",
    "\n",
    "import os\n",
    "import sys\n",
    "\n",
    "path_notebook = os.getcwd()\n",
    "# add the route planner folder to python path\n",
    "sys.path.append(os.path.join(path_notebook, \"../../\"))\n",
    "\n",
    "import matplotlib.pyplot as plt\n",
    "\n",
    "from commonroad.common.file_reader import CommonRoadFileReader\n",
    "from commonroad.visualization.draw_dispatch_cr import draw_object\n",
    "\n",
    "from SMP.route_planner.route_planner.route_planner import RoutePlanner\n",
    "from SMP.route_planner.route_planner.utils_visualization import draw_route, get_plot_limits_from_reference_path, \\\n",
    "    get_plot_limits_from_routes"
   ]
  },
  {
   "cell_type": "markdown",
   "metadata": {},
   "source": [
    "## 1. Loading CR Scenario and Planning Problem\n",
    "In the next step, we load a CommonRoad scenario and its planning problem(s), for which the routes should be planned. The route planner handles **one planning problem** at a time, thus we need to manually specify which planning problem it should take care. In our case, we select the first planning problem in the planning problem set. The meaning of the symbols in a scenario are explained as follows:\n",
    "* **Dot**: initial state of the planning problem projected onto the position domain\n",
    "* **Blue rectangle**: dynamic obstacle\n",
    "* **Yellow rectangle**: goal region projected onto the position domain"
   ]
  },
  {
   "cell_type": "code",
   "execution_count": null,
   "metadata": {},
   "outputs": [],
   "source": [
    "# load scenario\n",
    "path_scenario = os.path.join(path_notebook, \"../../SMP/route_planner/scenarios/\")\n",
    "id_scenario = 'USA_Peach-2_1_T-1'\n",
    "\n",
    "# read in scenario and planning problem set\n",
    "scenario, planning_problem_set = CommonRoadFileReader(path_scenario + id_scenario + '.xml').open()\n",
    "# retrieve the first planning problem in the problem set\n",
    "planning_problem = list(planning_problem_set.planning_problem_dict.values())[0]\n",
    "    \n",
    "# plot the scenario and the planning problem set\n",
    "plt.figure(figsize=(12, 12))\n",
    "draw_object(scenario)\n",
    "draw_object(planning_problem_set)\n",
    "plt.gca().set_aspect('equal')\n",
    "plt.show()"
   ]
  },
  {
   "cell_type": "markdown",
   "metadata": {},
   "source": [
    "## 2. Creating a route planner and planning for routes\n",
    "\n",
    "### 2.1 Instantiation\n",
    "A route planner can be easily constructed by passing the **scenario** and the **planning problem** to `RoutePlanner` object. As for the backend, there are currently three supported options:\n",
    "1. NETWORKX: uses built-in functions from the networkx package, tends to change lane later\n",
    "2. NETWORKX_REVERSED: uses built-in functions from the networkx package, tends to change lane earlier\n",
    "3. PRIORITY_QUEUE: uses A-star search to find routes, lane change maneuver depends on the heuristic cost\n",
    "\n",
    "### 2.2 Planning all possible routes\n",
    "The route planner plans a route for all possible combinations of start / goal lanelets. E.g. if our initial state is located in two lanes (due to overlapping of lanelets), and the same for our goal state, the route planner will try to plan routes for the four possible combinations.\n",
    "\n",
    "### 2.3 Retrieving a route\n",
    "Planned routes can be retrieved by using simple indices, or based on some heuristic functions to determine the best route of all. A route consists of a list of lanelet ids that leads from the initial state to the goal state.\n",
    "\n",
    "### 2.4 Retrieving reference path\n",
    "A reference path is automatically generated for each planned routes. The center lines of lanelets of a route is used to construct the reference path. The resulting polyline is then smoothened with Chaikin's corner cutting algorithm."
   ]
  },
  {
   "cell_type": "code",
   "execution_count": null,
   "metadata": {
    "pycharm": {
     "name": "#%%\n"
    }
   },
   "outputs": [],
   "source": [
    "# instantiate a route planner\n",
    "route_planner = RoutePlanner(scenario, planning_problem, backend=RoutePlanner.Backend.NETWORKX_REVERSED)\n",
    "\n",
    "# plan routes, and save the found routes in a route candidate holder\n",
    "candidate_holder = route_planner.plan_routes()\n",
    "\n",
    "# retrieving routes\n",
    "# option 1: retrieve all routes\n",
    "list_routes, num_route_candidates = candidate_holder.retrieve_all_routes()\n",
    "print(f\"Feasible route candidates: {num_route_candidates}\")\n",
    "\n",
    "# we retrieve the first route in the list\n",
    "# this is equivalent to: route = list_routes[0]\n",
    "route = candidate_holder.retrieve_first_route()\n",
    "\n",
    "# option 2: retrieve the best route by orientation metric\n",
    "# route = candidate_holder.retrieve_best_route_by_orientation()\n",
    "\n",
    "# print out coordinates of the vertices of the reference path\n",
    "print(\"\\nCoordinates [x, y]:\")\n",
    "print(route.reference_path)"
   ]
  },
  {
   "cell_type": "markdown",
   "metadata": {},
   "source": [
    "## 3. Visualizing planning results"
   ]
  },
  {
   "cell_type": "markdown",
   "metadata": {},
   "source": [
    "The planned routes can be easily visualized with the `draw_route` function. The arguements `draw_route_lanelets` and `draw_reference_path` indicates whether the lanelets of the route and the reference path should be drawn, respectively. The lanelets of the route is colored in cyan."
   ]
  },
  {
   "cell_type": "code",
   "execution_count": null,
   "metadata": {
    "pycharm": {
     "name": "#%%\n"
    }
   },
   "outputs": [],
   "source": [
    "# retrieve plot limits for better visualization. \n",
    "# option 1: plot limits from reference path\n",
    "# plot_limits = get_plot_limits_from_reference_path(route)\n",
    "# option 2: plot limits from lanelets in the route\n",
    "plot_limits = get_plot_limits_from_routes(route)\n",
    "\n",
    "# determine the figure size for better visualization\n",
    "size_x = 6\n",
    "ratio_x_y = (plot_limits[1] - plot_limits[0]) / (plot_limits[3] - plot_limits[2])\n",
    "fig = plt.figure(figsize=(size_x, size_x / ratio_x_y))\n",
    "fig.gca().axis('equal')\n",
    "\n",
    "draw_route(route, draw_route_lanelets=True, draw_reference_path=False, plot_limits=plot_limits)"
   ]
  },
  {
   "cell_type": "markdown",
   "metadata": {},
   "source": [
    "We now plot the generated reference path as well, which is colored in magenta."
   ]
  },
  {
   "cell_type": "code",
   "execution_count": null,
   "metadata": {},
   "outputs": [],
   "source": [
    "# retrieve plot limits for better visualization. \n",
    "# option 1: plot limits from reference path\n",
    "plot_limits = get_plot_limits_from_reference_path(route)\n",
    "# option 2: plot limits from lanelets in the route\n",
    "# plot_limits = get_plot_limits_from_routes(route)\n",
    "\n",
    "# determine the figure size for better visualization\n",
    "size_x = 6\n",
    "ratio_x_y = (plot_limits[1] - plot_limits[0]) / (plot_limits[3] - plot_limits[2])\n",
    "fig = plt.figure(figsize=(size_x, size_x / ratio_x_y))\n",
    "fig.gca().axis('equal')\n",
    "\n",
    "draw_route(route, draw_route_lanelets=True, draw_reference_path=True, plot_limits=plot_limits)"
   ]
  }
 ],
 "metadata": {
  "kernelspec": {
   "display_name": "Python 3",
   "language": "python",
   "name": "python3"
  },
  "language_info": {
   "codemirror_mode": {
    "name": "ipython",
    "version": 3
   },
   "file_extension": ".py",
   "mimetype": "text/x-python",
   "name": "python",
   "nbconvert_exporter": "python",
   "pygments_lexer": "ipython3",
   "version": "3.7.6"
  }
 },
 "nbformat": 4,
 "nbformat_minor": 1
}
