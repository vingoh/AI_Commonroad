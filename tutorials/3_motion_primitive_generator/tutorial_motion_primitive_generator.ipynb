{
 "cells": [
  {
   "cell_type": "markdown",
   "metadata": {},
   "source": [
    "# Tutorial: Motion Primitive Generator\n",
    "\n",
    "This tutorial demonstrates how are the motion primitives used in solving motion planning problems generated."
   ]
  },
  {
   "cell_type": "markdown",
   "metadata": {},
   "source": [
    "## 0. Preparation\n",
    "Before you proceed with this tutorial, make sure that\n",
    "\n",
    "* you have gone through the tutorial for **CommonRoad Input-Output**.\n",
    "* you have installed all necessary modules for **CommonRoad Search** according to the installation manual.\n",
    "\n",
    "The configuration parameters related to our motion primitive generator are stored in **generator_config.yaml**. The configuration file contains the following parameters:\n",
    "* **output setting**:\n",
    "    * output_directory: output directory of the generated motion primitives. The path can be either **relative** to this notebook or **absolute**.\n",
    "* **vehicle setting**:\n",
    "    * vehicle_type_id: id of vehicle type. 1: FORD_ESCORT, 2: BMW_320i, 3: VW_VANAGON\n",
    "* **primitive setting**:\n",
    "    * duration: time length of trajectory [s].\n",
    "    * dt_simulation: time step for forwad state simulation [s]. Note that CommonRoad scenarios have a discrete time step dt of 0.1 seconds\n",
    "    * velocity_sample_min: minimum sampling velocity [m/s].\n",
    "    * velocity_sample_max: maximum sampling velocity [m/s].\n",
    "    * num_sample_velocity: number of velocity samples.\n",
    "    * steering_angle_sample_min: minimum sampling angle [rad]. Note that here we only consider steering to one side, as we will mirror the primitives afterwards.\n",
    "    * steering_angle_sample_max: maximum sampling angle [rad]. If set to 0, it will be assigned the maximum permissible value given by the selected vehicle parameter.\n",
    "    * num_sample_steering_angle: number of steering angle samples\n",
    "* **sample trajectory setting**: \n",
    "    * num_segment_trajectory: number of segments in sample trajectories\n",
    "    * num_simulations: number of sample trajectories to be generated\n",
    "\n",
    "**Note**: Generating too sparse primitives (low branching factor) may restrict the search space such that no feasible solution can be found. On the other hand, generating too dense primitives (high branching factor) may dramatically inscrease the time of search. Thus striking a balance between diversity and efficiency is important here."
   ]
  },
  {
   "cell_type": "markdown",
   "metadata": {},
   "source": [
    "## 1. Loading configuration file and parameters"
   ]
  },
  {
   "cell_type": "code",
   "execution_count": null,
   "metadata": {},
   "outputs": [],
   "source": [
    "%load_ext autoreload\n",
    "%autoreload 2\n",
    "\n",
    "import matplotlib.pyplot as plt\n",
    "import numpy as np\n",
    "from MotionPrimitiveGenerator import MotionPrimitiveGenerator as MPG"
   ]
  },
  {
   "cell_type": "code",
   "execution_count": null,
   "metadata": {},
   "outputs": [],
   "source": [
    "# specify path to configuration file\n",
    "path_file_config = \"./generator_config.yaml\"\n",
    "\n",
    "# load configuration file\n",
    "MPG.load_configuration(path_file_config)"
   ]
  },
  {
   "cell_type": "markdown",
   "metadata": {},
   "source": [
    "## 2. Generating motion primitives\n",
    "### 2.1 Generating motion primitives which steers to one side only\n",
    "The attributes of the states in a motion primitive are:\n",
    "- x position\n",
    "- y position\n",
    "- steering angle\n",
    "- velocity\n",
    "- orientation\n",
    "- time step\n",
    "\n",
    "Here we only generate motion primitives with positive steering angles, as the other half can be easily obtained by mirroring them."
   ]
  },
  {
   "cell_type": "code",
   "execution_count": null,
   "metadata": {},
   "outputs": [],
   "source": [
    "list_motion_primitives = MPG.generate_motion_primitives()"
   ]
  },
  {
   "cell_type": "markdown",
   "metadata": {},
   "source": [
    "We plot the generated motion primitives:"
   ]
  },
  {
   "cell_type": "code",
   "execution_count": null,
   "metadata": {},
   "outputs": [],
   "source": [
    "fig = plt.figure(figsize=(12, 3))\n",
    "ax = fig.gca()\n",
    "\n",
    "for traj in list_motion_primitives:\n",
    "    list_x = [state.position[0] for state in traj.state_list]\n",
    "    list_y = [state.position[1] for state in traj.state_list]\n",
    "    plt.plot(list_x, list_y)\n",
    "\n",
    "ax.set_xticks(np.arange(-5, 20, 0.5))\n",
    "ax.set_yticks(np.arange(-5, 5., 0.5))\n",
    "plt.axis('equal')\n",
    "plt.grid(alpha=0.5)\n",
    "plt.xlim((-1,11))\n",
    "plt.ylim((-1,2))\n",
    "plt.show()"
   ]
  },
  {
   "cell_type": "markdown",
   "metadata": {},
   "source": [
    "### 2.2 Mirroring motion primitives\n",
    "As we only computed primitives that have a positive steering angle, we now mirror them to get the other half of the feasible primitives."
   ]
  },
  {
   "cell_type": "code",
   "execution_count": null,
   "metadata": {},
   "outputs": [],
   "source": [
    "list_motion_primitives_mirrored = MPG.create_mirrored_primitives(list_motion_primitives)\n",
    "print(\"Total number of primitives (mirrored included): \", len(list_motion_primitives_mirrored))"
   ]
  },
  {
   "cell_type": "markdown",
   "metadata": {},
   "source": [
    "We now plot the final generated motion primitives."
   ]
  },
  {
   "cell_type": "code",
   "execution_count": null,
   "metadata": {},
   "outputs": [],
   "source": [
    "fig = plt.figure(figsize=(12, 5))\n",
    "ax = fig.gca()\n",
    "\n",
    "for traj in list_motion_primitives_mirrored:\n",
    "    list_x = [state.position[0] for state in traj.state_list]\n",
    "    list_y = [state.position[1] for state in traj.state_list]\n",
    "    plt.plot(list_x, list_y)\n",
    "\n",
    "ax.set_xticks(np.arange(-5, 20, 0.5))\n",
    "ax.set_yticks(np.arange(-5, 5., 0.5))\n",
    "plt.axis('equal')\n",
    "plt.grid(alpha=0.5)\n",
    "plt.xlim((-1,11))\n",
    "plt.ylim((-2,2))\n",
    "plt.show()"
   ]
  },
  {
   "cell_type": "markdown",
   "metadata": {},
   "source": [
    "### 2.3 Checking average branching factor of  the generated motion primitives\n",
    "We can inspect the average branching factor of the generated primitives to have a rough idea how many successors a given motion primitive can have."
   ]
  },
  {
   "cell_type": "code",
   "execution_count": null,
   "metadata": {},
   "outputs": [],
   "source": [
    "branching_factor_average = MPG.compute_branching_factor(list_motion_primitives_mirrored)\n",
    "print(\"Average branching factor of primitives: \", branching_factor_average)"
   ]
  },
  {
   "cell_type": "markdown",
   "metadata": {},
   "source": [
    "### 3. Generating sample trajectories\n",
    "We create some sample trajectories with the motion primitives that we have just generated."
   ]
  },
  {
   "cell_type": "code",
   "execution_count": null,
   "metadata": {},
   "outputs": [],
   "source": [
    "MPG.generate_sample_trajectories(list_motion_primitives_mirrored)"
   ]
  },
  {
   "cell_type": "markdown",
   "metadata": {},
   "source": [
    "## 4. Saving motion primitives to XML files\n",
    "We save the generated motion primitves to XML files, which are output tothe directory specified in the configuration file."
   ]
  },
  {
   "cell_type": "code",
   "execution_count": null,
   "metadata": {},
   "outputs": [],
   "source": [
    "MPG.save_motion_primitives(list_motion_primitives_mirrored)"
   ]
  }
 ],
 "metadata": {
  "kernelspec": {
   "display_name": "Python 3",
   "language": "python",
   "name": "python3"
  },
  "language_info": {
   "codemirror_mode": {
    "name": "ipython",
    "version": 3
   },
   "file_extension": ".py",
   "mimetype": "text/x-python",
   "name": "python",
   "nbconvert_exporter": "python",
   "pygments_lexer": "ipython3",
   "version": "3.7.6"
  }
 },
 "nbformat": 4,
 "nbformat_minor": 2
}
